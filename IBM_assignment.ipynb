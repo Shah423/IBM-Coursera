{
 "cells": [
  {
   "cell_type": "markdown",
   "id": "a26393f2",
   "metadata": {},
   "source": [
    "# My Jupyter Notebook on IBM Watson Studio"
   ]
  },
  {
   "cell_type": "markdown",
   "id": "b37e3904",
   "metadata": {},
   "source": [
    "**Shahrukh Khan Afridi**"
   ]
  },
  {
   "cell_type": "markdown",
   "id": "45cc8140",
   "metadata": {},
   "source": [
    "I am currently doing my major in electrical enginneering"
   ]
  },
  {
   "cell_type": "markdown",
   "id": "8ddb9b85",
   "metadata": {},
   "source": [
    "*My dream is marketing-like data-driven approach in IT-recruitment and transparent process of analysis of digital-marketing to hiring efficiency*"
   ]
  },
  {
   "cell_type": "markdown",
   "id": "ecebc2fd",
   "metadata": {},
   "source": [
    "### My code will calculate the sum of two numbers\n",
    "\n",
    "\n"
   ]
  },
  {
   "cell_type": "code",
   "execution_count": 4,
   "id": "0b301f10",
   "metadata": {},
   "outputs": [
    {
     "name": "stdout",
     "output_type": "stream",
     "text": [
      "7\n"
     ]
    }
   ],
   "source": [
    "a=3\n",
    "b=4\n",
    "c=a+b\n",
    "print(c)"
   ]
  },
  {
   "cell_type": "markdown",
   "id": "08de45d4",
   "metadata": {},
   "source": [
    "\n",
    "\n",
    "Markdown | Less | Pretty\n",
    "--- | --- | ---\n",
    "*Still* | `renders` | **nicely**\n",
    "1 | 2 | 3"
   ]
  },
  {
   "cell_type": "markdown",
   "id": "394b9020",
   "metadata": {},
   "source": [
    ">Blockquotes are very handy in email to emulate reply text.\n",
    "> This line is part of the same quote.\n",
    "\n",
    "Quote break.\n",
    "\n",
    "> This is a very long line that will still be quoted properly when it wraps. Oh boy let's keep writing to make sure this is long enough to actually wrap for everyone. Oh, you can *put* **Markdown** into a blockquote."
   ]
  },
  {
   "cell_type": "markdown",
   "id": "b65ce26b",
   "metadata": {},
   "source": [
    "<dl>\n",
    "  <dt>Definition list</dt>\n",
    "  <dd>Is something people use sometimes.</dd>\n",
    "\n",
    "  <dt>Markdown in HTML</dt>\n",
    "  <dd>Does *not* work **very** well. Use HTML <em>tags</em>.</dd>\n",
    "</dl>"
   ]
  }
 ],
 "metadata": {
  "kernelspec": {
   "display_name": "Python 3 (ipykernel)",
   "language": "python",
   "name": "python3"
  },
  "language_info": {
   "codemirror_mode": {
    "name": "ipython",
    "version": 3
   },
   "file_extension": ".py",
   "mimetype": "text/x-python",
   "name": "python",
   "nbconvert_exporter": "python",
   "pygments_lexer": "ipython3",
   "version": "3.9.7"
  }
 },
 "nbformat": 4,
 "nbformat_minor": 5
}
